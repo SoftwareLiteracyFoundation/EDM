{
 "cells": [
  {
   "cell_type": "markdown",
   "metadata": {},
   "source": [
    "## Read Data, Embed, Simplex Predict\n",
    "\n",
    "Demonstrate reading data from a file, embedding the data, and passing the embedded object to Predict().\n",
    "Demonstrate passing the multivariable data read from a file directly to Predict()."
   ]
  },
  {
   "cell_type": "code",
   "execution_count": null,
   "metadata": {
    "scrolled": false
   },
   "outputs": [],
   "source": [
    "import Jupyter as jp\n",
    "# Do not call jp.init() to create GUI widgets"
   ]
  },
  {
   "cell_type": "markdown",
   "metadata": {},
   "source": [
    "### Get Data from file"
   ]
  },
  {
   "cell_type": "code",
   "execution_count": null,
   "metadata": {},
   "outputs": [],
   "source": [
    "args            = jp.ParseCmdLine() # Get default arguments\n",
    "args.path       = '../data/'\n",
    "args.inputFile  = 'LorenzData1000.csv'\n",
    "D_Data          = jp.ReadCSV( args )  # Dictionary { data, header }"
   ]
  },
  {
   "cell_type": "markdown",
   "metadata": {},
   "source": [
    "### Embed Data\n",
    "Use variable V1 as the data column and embed to E = 5 dimensions"
   ]
  },
  {
   "cell_type": "code",
   "execution_count": null,
   "metadata": {},
   "outputs": [],
   "source": [
    "args.E       = 5\n",
    "args.columns = ['V1']\n",
    "args.target  = 'V1'\n",
    "# D_Embed is a Dictionary { header, embedding, target }\n",
    "D_Embed = jp.Embed( args, D_Data['data'], D_Data['header'] )"
   ]
  },
  {
   "cell_type": "markdown",
   "metadata": {},
   "source": [
    "### Simplex Prediction on Embedded Data"
   ]
  },
  {
   "cell_type": "code",
   "execution_count": null,
   "metadata": {},
   "outputs": [],
   "source": [
    "args.Tp         = 3\n",
    "args.library    = [1,300]\n",
    "args.prediction = [301,600]\n",
    "args.embedded   = True  # !!! Must set this True since passing embedding to Predict()\n",
    "args.plot       = True\n",
    "\n",
    "data            = D_Embed['embedding']\n",
    "colNames        = D_Embed['header'][1:6] # 6 since Python slice index end is n-1, we need 5\n",
    "target          = D_Embed['target']\n",
    "SimplexEmbed    = jp.Predict( args, data, colNames, target )"
   ]
  },
  {
   "cell_type": "code",
   "execution_count": null,
   "metadata": {},
   "outputs": [],
   "source": [
    "SimplexEmbed.keys()"
   ]
  },
  {
   "cell_type": "markdown",
   "metadata": {},
   "source": [
    "### Now use the multivariable data read directly from the file as the embedding"
   ]
  },
  {
   "cell_type": "code",
   "execution_count": null,
   "metadata": {},
   "outputs": [],
   "source": [
    "args.Tp         = 3\n",
    "args.library    = [1,300]\n",
    "args.prediction = [301,600]\n",
    "args.embedded   = True  # !!! Must set this True since passing embedding to Predict()\n",
    "args.plot       = True\n",
    "\n",
    "data            = D_Data['data']\n",
    "colNames        = D_Data['header'][1:6] # 6 since Python slice index end is n-1, we need 5\n",
    "target          = D_Data['data'][:,1]\n",
    "SimplexMultivar = jp.Predict( args, data, colNames, target )"
   ]
  },
  {
   "cell_type": "code",
   "execution_count": null,
   "metadata": {},
   "outputs": [],
   "source": [
    "print( '5-D embedding ρ={}  5-D multivariable ρ={} '.format( round( SimplexEmbed['rho'], 3 ), round( SimplexMultivar['rho'], 3 ) ) )"
   ]
  },
  {
   "cell_type": "code",
   "execution_count": null,
   "metadata": {},
   "outputs": [],
   "source": []
  }
 ],
 "metadata": {
  "kernelspec": {
   "display_name": "Python 3",
   "language": "python",
   "name": "python3"
  },
  "language_info": {
   "codemirror_mode": {
    "name": "ipython",
    "version": 3
   },
   "file_extension": ".py",
   "mimetype": "text/x-python",
   "name": "python",
   "nbconvert_exporter": "python",
   "pygments_lexer": "ipython3",
   "version": "3.5.2"
  }
 },
 "nbformat": 4,
 "nbformat_minor": 2
}
