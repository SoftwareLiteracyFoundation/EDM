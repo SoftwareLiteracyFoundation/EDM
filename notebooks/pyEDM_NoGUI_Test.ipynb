{
 "cells": [
  {
   "cell_type": "markdown",
   "metadata": {},
   "source": [
    "## pyEDM\n",
    "Interfaces to pyEDM are contained in Jupyter.py:\n",
    "\n",
    "|Function        |Application                                             |\n",
    "|:---------:     |:--------:                                              |\n",
    "|Embed()         |Time-delay embedding                                    |\n",
    "|Predict()       |Simplex or S-Map prediction                             |\n",
    "|EmbedDimension()|Evaluate prediction skill vs. embedding dimension       |\n",
    "|PredictDecay()  |Evaluate prediction skill vs. forecast interval         |\n",
    "|SMapNL()        |Evaluate prediction skill vs. localisation parameter (θ)|\n",
    "|Multiview()     |Multiview optimisation                                  |\n",
    "|CCM()           |Convergent Cross Mapping                                |\n",
    "\n",
    "Return values are Python dictionaries."
   ]
  },
  {
   "cell_type": "code",
   "execution_count": null,
   "metadata": {
    "scrolled": false
   },
   "outputs": [],
   "source": [
    "import Jupyter as jp\n",
    "# Do not call jp.init() to create GUI widgets"
   ]
  },
  {
   "cell_type": "markdown",
   "metadata": {},
   "source": [
    "### Embedding dimension (E) vs prediction skill (ρ)\n",
    "Explicitly set arguments in args, and pass to jp.EmbedDimensions()"
   ]
  },
  {
   "cell_type": "code",
   "execution_count": null,
   "metadata": {
    "scrolled": false
   },
   "outputs": [],
   "source": [
    "args            = jp.ParseCmdLine() # Get default arguments\n",
    "args.path       = '../data/'\n",
    "args.inputFile  = 'TentMap_rEDM.csv'\n",
    "args.columns    = ['TentMap']\n",
    "args.library    = [1,100]\n",
    "args.prediction = [201,500]\n",
    "args.Tp         = 1\n",
    "args.plot       = True\n",
    "E_rho = jp.EmbedDimension( args )"
   ]
  },
  {
   "cell_type": "markdown",
   "metadata": {},
   "source": [
    "### Forecast interval (Tp) vs prediction skill (ρ) "
   ]
  },
  {
   "cell_type": "code",
   "execution_count": null,
   "metadata": {
    "scrolled": false
   },
   "outputs": [],
   "source": [
    "args            = jp.ParseCmdLine() # Get default arguments\n",
    "args.path       = '../data/'\n",
    "args.inputFile  = 'TentMap_rEDM.csv'\n",
    "args.columns    = ['TentMap']\n",
    "args.library    = [1,100]\n",
    "args.prediction = [201,500]\n",
    "args.E          = 2\n",
    "args.Tp         = 1\n",
    "args.plot       = True\n",
    "Tp_rho = jp.PredictDecay( args )"
   ]
  },
  {
   "cell_type": "markdown",
   "metadata": {},
   "source": [
    "### S-Map localization (θ) vs prediction skill (ρ) with noise"
   ]
  },
  {
   "cell_type": "code",
   "execution_count": null,
   "metadata": {},
   "outputs": [],
   "source": [
    "args            = jp.ParseCmdLine() # Get default arguments\n",
    "args.path       = '../data/'\n",
    "args.inputFile  = 'TentMapErr_rEDM.csv'\n",
    "args.columns    = ['TentMap']\n",
    "args.library    = [1,100]\n",
    "args.prediction = [201,500]\n",
    "args.E          = 2\n",
    "args.Tp         = 1\n",
    "args.plot       = True\n",
    "theta_rho = jp.SMapNL( args )"
   ]
  },
  {
   "cell_type": "markdown",
   "metadata": {},
   "source": [
    "### Multivariable S-Map prediction"
   ]
  },
  {
   "cell_type": "code",
   "execution_count": null,
   "metadata": {
    "scrolled": true
   },
   "outputs": [],
   "source": [
    "args            = jp.ParseCmdLine() # Get default arguments\n",
    "args.path       = '../data/'\n",
    "args.inputFile  = 'block_3sp.csv'\n",
    "args.columns    = ['x_t', 'y_t', 'z_t']\n",
    "args.target     = 'x_t'\n",
    "args.library    = [1,99]\n",
    "args.prediction = [100,198]\n",
    "args.E          = 2\n",
    "args.Tp         = 1\n",
    "args.method     = 'SMap'\n",
    "args.theta      = 2\n",
    "args.embedded   = True\n",
    "args.plot       = True\n",
    "predict = jp.Predict( args )"
   ]
  },
  {
   "cell_type": "markdown",
   "metadata": {},
   "source": [
    "### Multiview Ensemble Simplex Prediction"
   ]
  },
  {
   "cell_type": "code",
   "execution_count": null,
   "metadata": {},
   "outputs": [],
   "source": [
    "args            = jp.ParseCmdLine() # Get default arguments\n",
    "args.path       = '../data/'\n",
    "args.inputFile  = 'block_3sp.csv'\n",
    "args.columns    = ['x_t', 'y_t', 'z_t']\n",
    "args.target     = 'x_t'\n",
    "args.library    = [1,100]\n",
    "args.prediction = [101,200]\n",
    "args.E          = 3\n",
    "args.Tp         = 1\n",
    "args.method     = 'Simplex'\n",
    "args.embedded   = False\n",
    "args.plot       = True\n",
    "multiview = jp.Multiview( args )"
   ]
  },
  {
   "cell_type": "markdown",
   "metadata": {},
   "source": [
    "### Convergent Cross Mapping"
   ]
  },
  {
   "cell_type": "code",
   "execution_count": null,
   "metadata": {},
   "outputs": [],
   "source": [
    "args            = jp.ParseCmdLine() # Get default arguments\n",
    "args.path       = '../data/'\n",
    "args.inputFile  = 'sardine_anchovy_sst.csv'\n",
    "args.columns    = ['anchovy']\n",
    "args.target     = 'np_sst'\n",
    "args.E          = 3\n",
    "args.Tp         = 0\n",
    "args.libsize    = [10, 80, 10]\n",
    "args.randomLib  = True\n",
    "args.subsample  = 100\n",
    "args.plot       = True\n",
    "ccm = jp.CCM( args )"
   ]
  }
 ],
 "metadata": {
  "kernelspec": {
   "display_name": "Python 3",
   "language": "python",
   "name": "python3"
  },
  "language_info": {
   "codemirror_mode": {
    "name": "ipython",
    "version": 3
   },
   "file_extension": ".py",
   "mimetype": "text/x-python",
   "name": "python",
   "nbconvert_exporter": "python",
   "pygments_lexer": "ipython3",
   "version": "3.5.2"
  }
 },
 "nbformat": 4,
 "nbformat_minor": 2
}
