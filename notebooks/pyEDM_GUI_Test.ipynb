{
 "cells": [
  {
   "cell_type": "markdown",
   "metadata": {},
   "source": [
    "## pyEDM\n",
    "Interfaces to pyEDM are contained in Jupyter.py:\n",
    "\n",
    "|Function        |Application                                             |\n",
    "|:---------:     |:--------:                                              |\n",
    "|Embed()         |Time-delay embedding                                    |\n",
    "|Predict()       |Simplex or S-Map prediction                             |\n",
    "|EmbedDimension()|Evaluate prediction skill vs. embedding dimension       |\n",
    "|PredictDecay()  |Evaluate prediction skill vs. forecast interval         |\n",
    "|SMapNL()        |Evaluate prediction skill vs. localisation parameter (θ)|\n",
    "|Multiview()     |Multiview optimisation                                  |\n",
    "|CCM()           |Convergent Cross Mapping                                |\n",
    "\n",
    "Return values are Python dictionaries."
   ]
  },
  {
   "cell_type": "code",
   "execution_count": null,
   "metadata": {
    "scrolled": false
   },
   "outputs": [],
   "source": [
    "import Jupyter as jp\n",
    "jp.init()  # Initialise notebook widgets and arguments"
   ]
  },
  {
   "cell_type": "markdown",
   "metadata": {},
   "source": [
    "### Embedding dimension (E) vs prediction skill (ρ)\n",
    "Configure parameters in widgets as:\n",
    "* columns: TentMap (or 1)\n",
    "* Tp: 1\n",
    "* input file: TentMap_rEDM.csv\n",
    "* optional: enable plot"
   ]
  },
  {
   "cell_type": "code",
   "execution_count": null,
   "metadata": {
    "scrolled": false
   },
   "outputs": [],
   "source": [
    "E_rho = jp.EmbedDimension()"
   ]
  },
  {
   "cell_type": "markdown",
   "metadata": {},
   "source": [
    "### Forecast interval (Tp) vs prediction skill (ρ) \n",
    "Configure parameters as:\n",
    "* columns: TentMap (or 1)\n",
    "* E: 2\n",
    "* Tp: 1\n",
    "* input file: TentMap_rEDM.csv\n",
    "* optional: enable plot"
   ]
  },
  {
   "cell_type": "code",
   "execution_count": null,
   "metadata": {
    "scrolled": false
   },
   "outputs": [],
   "source": [
    "Tp_rho = jp.PredictDecay()"
   ]
  },
  {
   "cell_type": "markdown",
   "metadata": {},
   "source": [
    "### S-Map localization (θ) vs prediction skill (ρ) with noise\n",
    "Configure parameters as:\n",
    "* columns: TentMap (or 1)\n",
    "* E: 2\n",
    "* Tp: 1\n",
    "* input file: TentMapErr_rEDM.csv\n",
    "* optional: enable plot"
   ]
  },
  {
   "cell_type": "code",
   "execution_count": null,
   "metadata": {},
   "outputs": [],
   "source": [
    "theta_rho = jp.SMapNL()"
   ]
  },
  {
   "cell_type": "markdown",
   "metadata": {},
   "source": [
    "### Multivariable S-Map prediction\n",
    "Configure parameters as:\n",
    "* method: SMap\n",
    "* embedded: True\n",
    "* Tp: 1\n",
    "* theta: 2\n",
    "* columns: x_t y_t z_t\n",
    "* target: x_t\n",
    "* input file: block_3sp.csv\n",
    "* library: [1, 99]\n",
    "* prediction: [100, 198]\n",
    "* optional: enable plot"
   ]
  },
  {
   "cell_type": "code",
   "execution_count": null,
   "metadata": {
    "scrolled": true
   },
   "outputs": [],
   "source": [
    "predict = jp.Predict()"
   ]
  },
  {
   "cell_type": "markdown",
   "metadata": {},
   "source": [
    "### Multiview Ensemble Simplex Prediction\n",
    "Configure parameters as:\n",
    "* method: Simplex\n",
    "* embedded: False\n",
    "* E: 3\n",
    "* columns: x_t y_t z_t\n",
    "* target: x_t\n",
    "* input file: block_3sp.csv\n",
    "* library: [1, 100]\n",
    "* prediction: [101, 200]\n",
    "* optional: enable plot"
   ]
  },
  {
   "cell_type": "code",
   "execution_count": null,
   "metadata": {},
   "outputs": [],
   "source": [
    "multiview = jp.Multiview()"
   ]
  },
  {
   "cell_type": "markdown",
   "metadata": {},
   "source": [
    "### Convergent Cross Mapping\n",
    "Configure parameters as:\n",
    "* E: 3\n",
    "* Tp: 0\n",
    "* columns: anchovy\n",
    "* target: np_sst\n",
    "* input file: sardine_anchovy_sst.csv\n",
    "* lib_size: [10 80 10]\n",
    "* optional: enable plot"
   ]
  },
  {
   "cell_type": "code",
   "execution_count": null,
   "metadata": {},
   "outputs": [],
   "source": [
    "ccm = jp.CCM()"
   ]
  }
 ],
 "metadata": {
  "kernelspec": {
   "display_name": "Python 3",
   "language": "python",
   "name": "python3"
  },
  "language_info": {
   "codemirror_mode": {
    "name": "ipython",
    "version": 3
   },
   "file_extension": ".py",
   "mimetype": "text/x-python",
   "name": "python",
   "nbconvert_exporter": "python",
   "pygments_lexer": "ipython3",
   "version": "3.5.2"
  }
 },
 "nbformat": 4,
 "nbformat_minor": 2
}
