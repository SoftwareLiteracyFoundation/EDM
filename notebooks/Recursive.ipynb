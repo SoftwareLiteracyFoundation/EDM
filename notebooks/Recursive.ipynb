{
 "cells": [
  {
   "cell_type": "markdown",
   "metadata": {},
   "source": [
    "## Recursive Prediction\n",
    "\n",
    "Read multivariable data from a file.<br/>\n",
    "Perform recursive predictions on the multivariable data.<br/>\n",
    "Recursive prediction uses the entire library, and prediction at the end of the library to predict Tp=1 step ahead outside the library end.  This prediction vector is then added to the library, prediction indices incremented by one, and a new prediction made.  The process is repeated N_step times. "
   ]
  },
  {
   "cell_type": "code",
   "execution_count": null,
   "metadata": {
    "scrolled": false
   },
   "outputs": [],
   "source": [
    "import Jupyter as jp # Do not call jp.init() to create GUI widgets"
   ]
  },
  {
   "cell_type": "markdown",
   "metadata": {},
   "source": [
    "### Get Data from file"
   ]
  },
  {
   "cell_type": "code",
   "execution_count": null,
   "metadata": {},
   "outputs": [],
   "source": [
    "args            = jp.ParseCmdLine() # Get default arguments\n",
    "args.path       = '../data/'\n",
    "args.inputFile  = 'LorenzData1000.csv'\n",
    "D_Data          = jp.ReadCSV( args )  # Dictionary { data, header }"
   ]
  },
  {
   "cell_type": "markdown",
   "metadata": {},
   "source": [
    "### Plot Function"
   ]
  },
  {
   "cell_type": "code",
   "execution_count": null,
   "metadata": {},
   "outputs": [],
   "source": [
    "def PlotData( args, data, colNames, xLine ) :\n",
    "\n",
    "    fig, ax = jp.plt.subplots( 1, 1, figsize = args.figureSize, dpi = 150 )\n",
    "    colors  = [ 'black', 'blue', 'red', 'green', 'brown', 'magenta' ]\n",
    "    \n",
    "    for i in range( 1, len( colNames ) ) :\n",
    "        ax.plot( data[:,0], data[:,i], label = colNames[i],\n",
    "                 color = colors[i], linewidth = 2 )\n",
    "    \n",
    "    ax.axvline( x = xLine, linewidth = 1, linestyle = 'dashed', color = 'black' )\n",
    "    ax.legend( loc = 'lower left')\n",
    "    ax.set( xlabel = args.plotXLabel, ylabel = args.plotYLabel,\n",
    "            title  = args.inputFile +\\\n",
    "                     '  E=' + str( args.E  ) + ' Tp=' + str( args.Tp ) )\n",
    "    jp.plt.show()"
   ]
  },
  {
   "cell_type": "markdown",
   "metadata": {},
   "source": [
    "### Recursive prediction using multivariable data"
   ]
  },
  {
   "cell_type": "code",
   "execution_count": null,
   "metadata": {},
   "outputs": [],
   "source": [
    "import numpy as np\n",
    "\n",
    "N_step   = 20\n",
    "data     = D_Data['data'][1:100]    # Subset the data to 100 points\n",
    "colNames = D_Data['header']\n",
    "N_Col    = data.shape[1]\n",
    "\n",
    "# Setup parameters for prediction\n",
    "args.E          = 5\n",
    "args.k_NN       = 4\n",
    "args.Tp         = 1\n",
    "args.library    = [1,  100]\n",
    "args.prediction = [90, 100] # Needs to be at the end of data\n",
    "args.embedded   = True\n",
    "\n",
    "if args.method == 'smap' :\n",
    "    args.theta  = 4\n",
    "    args.k_NN   = 95\n",
    "\n",
    "jp.AdjustArgs( args )\n",
    "\n",
    "#---------------------------------------------------------------\n",
    "# Loop for N_step's\n",
    "#---------------------------------------------------------------\n",
    "for i_step in range( 1, N_step ) :\n",
    "    \n",
    "    # Create vector to append to data at Tp\n",
    "    newData = np.zeros( (1, N_Col) ) # 2-D for np.append to data\n",
    "    \n",
    "    embedding = data\n",
    "\n",
    "    # Prediction for each column/variable in the the data as target\n",
    "    for i_target in range( 1, N_Col ) :\n",
    "        target = data[ :, i_target ] # Set target\n",
    "    \n",
    "        # Note that colNames are not used in Prediction()\n",
    "        D_Predict = jp.Predict( args, data, None, target, False )\n",
    "\n",
    "        # Prediction in last row, 3rd col\n",
    "        newData[ 0, i_target ] = D_Predict['prediction'][ -1, 2 ] \n",
    "  \n",
    "        #print( \"{} rho={} mae={}\".format( colNames[ i_target ],\n",
    "        #                        round( rho, 2 ), round( mae, 4 ) ) )\n",
    "\n",
    "    newData[0,0] = D_Predict['prediction'][ -1, 0 ] # Time value\n",
    "    print( newData[0,:] )\n",
    "\n",
    "    # Append this prediction\n",
    "    data = np.append( data, newData, axis = 0 )\n",
    "\n",
    "    # Increment for next timestep\n",
    "    args.library[1]    = args.library[1] + 1\n",
    "    args.prediction[0] = args.prediction[0] + 1 # Increment both\n",
    "    args.prediction[1] = args.prediction[1] + 1 # Increment both\n",
    "    if args.method == 'smap' :\n",
    "        args.k_NN = args.k_NN + 1\n",
    "        \n",
    "    if i_step == 1 :\n",
    "        xLine = newData[0,0]\n",
    "\n",
    "outFile = 'out.csv'\n",
    "np.savetxt( outFile, data, fmt = '%.4f',\n",
    "            delimiter = ',', header = ','.join( colNames ),\n",
    "            comments = '' )\n",
    "        \n",
    "PlotData( args, data, colNames, xLine )\n"
   ]
  }
 ],
 "metadata": {
  "kernelspec": {
   "display_name": "Python 3",
   "language": "python",
   "name": "python3"
  },
  "language_info": {
   "codemirror_mode": {
    "name": "ipython",
    "version": 3
   },
   "file_extension": ".py",
   "mimetype": "text/x-python",
   "name": "python",
   "nbconvert_exporter": "python",
   "pygments_lexer": "ipython3",
   "version": "3.5.2"
  }
 },
 "nbformat": 4,
 "nbformat_minor": 2
}
